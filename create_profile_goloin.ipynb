{
 "cells": [
  {
   "cell_type": "code",
   "execution_count": 2,
   "id": "80a3b2c7",
   "metadata": {},
   "outputs": [
    {
     "name": "stdout",
     "output_type": "stream",
     "text": [
      "executablePath C:\\Users\\Admin\\.gologin\\browser\\orbita-browser-111\\chrome\n"
     ]
    }
   ],
   "source": [
    "from Helpers import gologin\n",
    "from Utils.utils import *\n",
    "GOLOGIN_TOKEN = read_file_helper(\"./Data/gologin_token.txt\")[0]\n",
    "\n",
    "\n",
    "gl = gologin.GoLogin({\n",
    "    \"token\": GOLOGIN_TOKEN,\n",
    "})\n",
    "\n",
    "proxy =  None#{\"type\": \"http\",\"host\": \"43.130.10.70\",\"port\":\"27805\",\"username\": \"\", \"password\": \"\"}\n",
    "profile_id = gl.createStdProfile(proxy)\n",
    "gl.setProfileId(profile_id)\n",
    "\n",
    "\n",
    "# gl.delete('yU0Pr0f1leiD')"
   ]
  },
  {
   "cell_type": "code",
   "execution_count": 3,
   "id": "6abf698b",
   "metadata": {},
   "outputs": [
    {
     "name": "stdout",
     "output_type": "stream",
     "text": [
      "no proxy\n"
     ]
    }
   ],
   "source": [
    "debugger_address = gl.start()"
   ]
  },
  {
   "cell_type": "code",
   "execution_count": 7,
   "id": "ae075e64",
   "metadata": {},
   "outputs": [
    {
     "ename": "SyntaxError",
     "evalue": "invalid syntax (3680009460.py, line 1)",
     "output_type": "error",
     "traceback": [
      "\u001b[1;36m  Input \u001b[1;32mIn [7]\u001b[1;36m\u001b[0m\n\u001b[1;33m    http://127.0.0.1:3500\u001b[0m\n\u001b[1;37m         ^\u001b[0m\n\u001b[1;31mSyntaxError\u001b[0m\u001b[1;31m:\u001b[0m invalid syntax\n"
     ]
    }
   ],
   "source": [
    "http://127.0.0.1:3500"
   ]
  },
  {
   "cell_type": "code",
   "execution_count": 5,
   "id": "2be21966",
   "metadata": {},
   "outputs": [],
   "source": [
    "gl.port = 3501"
   ]
  },
  {
   "cell_type": "code",
   "execution_count": 6,
   "id": "9ae2103f",
   "metadata": {},
   "outputs": [
    {
     "data": {
      "text/plain": [
       "3501"
      ]
     },
     "execution_count": 6,
     "metadata": {},
     "output_type": "execute_result"
    }
   ],
   "source": [
    "gl.port"
   ]
  },
  {
   "cell_type": "code",
   "execution_count": 8,
   "id": "4cbc34bb",
   "metadata": {},
   "outputs": [
    {
     "name": "stdout",
     "output_type": "stream",
     "text": [
      "profileResponse {\"statusCode\":403,\"message\":\"You've reached max remote instances number. To run more update your plan\",\"error\":\"Forbidden\"}\n"
     ]
    },
    {
     "data": {
      "text/plain": [
       "{'status': 'failure'}"
      ]
     },
     "execution_count": 8,
     "metadata": {},
     "output_type": "execute_result"
    }
   ],
   "source": [
    "gl.startRemote()"
   ]
  },
  {
   "cell_type": "code",
   "execution_count": null,
   "id": "43a1c38b",
   "metadata": {},
   "outputs": [],
   "source": []
  },
  {
   "cell_type": "code",
   "execution_count": 1,
   "id": "a3571866",
   "metadata": {},
   "outputs": [],
   "source": [
    "from Helpers import lunaproxy"
   ]
  },
  {
   "cell_type": "code",
   "execution_count": 1,
   "id": "c4848d9a",
   "metadata": {},
   "outputs": [],
   "source": [
    "from Models import proxy_manager"
   ]
  },
  {
   "cell_type": "code",
   "execution_count": 3,
   "id": "f1dfd336",
   "metadata": {},
   "outputs": [
    {
     "name": "stdout",
     "output_type": "stream",
     "text": [
      "Total proxies:  []\n"
     ]
    },
    {
     "data": {
      "text/plain": [
       "{'type': 'SOCKS',\n",
       " 'host': '43.130.10.70',\n",
       " 'port': '27578',\n",
       " 'username': '',\n",
       " 'password': ''}"
      ]
     },
     "execution_count": 3,
     "metadata": {},
     "output_type": "execute_result"
    }
   ],
   "source": [
    "proxy_manager.get(\"luna\")"
   ]
  },
  {
   "cell_type": "code",
   "execution_count": null,
   "id": "445b7eba",
   "metadata": {},
   "outputs": [],
   "source": [
    "state"
   ]
  },
  {
   "cell_type": "code",
   "execution_count": null,
   "id": "b0fb1096",
   "metadata": {},
   "outputs": [],
   "source": [
    "43.130.10.70:27805"
   ]
  },
  {
   "cell_type": "code",
   "execution_count": null,
   "id": "0208f776",
   "metadata": {},
   "outputs": [],
   "source": []
  },
  {
   "cell_type": "code",
   "execution_count": 9,
   "id": "8ae9d42e",
   "metadata": {},
   "outputs": [
    {
     "name": "stdout",
     "output_type": "stream",
     "text": [
      "Total proxies:  ['43.130.10.70:27967', '43.130.10.70:27658', '43.130.10.70:27550', '43.130.10.70:27802']\n",
      "43.130.10.70:27802\n"
     ]
    }
   ],
   "source": [
    "proxy = lunaproxy.get_proxy()\n",
    "print(proxy)"
   ]
  },
  {
   "cell_type": "code",
   "execution_count": 3,
   "id": "7eb89652",
   "metadata": {},
   "outputs": [
    {
     "data": {
      "text/plain": [
       "'43.130.10.70:27986'"
      ]
     },
     "execution_count": 3,
     "metadata": {},
     "output_type": "execute_result"
    }
   ],
   "source": [
    "proxy"
   ]
  },
  {
   "cell_type": "code",
   "execution_count": 9,
   "id": "82294694",
   "metadata": {},
   "outputs": [
    {
     "data": {
      "text/plain": [
       "'43.130.10.70:27963'"
      ]
     },
     "execution_count": 9,
     "metadata": {},
     "output_type": "execute_result"
    }
   ],
   "source": [
    "t[-1]"
   ]
  },
  {
   "cell_type": "code",
   "execution_count": 1,
   "id": "f8316a62",
   "metadata": {},
   "outputs": [],
   "source": [
    "url = \"https://tq.lunaproxy.com/getflowip?neek=1019955&num=50&type=1&sep=1&regions=au&ip_si=1&level=1&sb=\""
   ]
  },
  {
   "cell_type": "code",
   "execution_count": 2,
   "id": "749c61d9",
   "metadata": {},
   "outputs": [],
   "source": [
    "import requests"
   ]
  },
  {
   "cell_type": "code",
   "execution_count": 4,
   "id": "8379c602",
   "metadata": {},
   "outputs": [
    {
     "ename": "JSONDecodeError",
     "evalue": "[Errno Extra data] 43.130.10.70:27883\r\n43.130.10.70:27922\r\n43.130.10.70:27566\r\n43.130.10.70:27905\r\n43.130.10.70:27571\r\n43.130.10.70:27963\r\n43.130.10.70:27965\r\n43.130.10.70:27817\r\n43.130.10.70:27771\r\n43.130.10.70:27900\r\n43.130.10.70:27779\r\n43.130.10.70:27750\r\n43.130.10.70:27534\r\n43.130.10.70:27830\r\n43.130.10.70:27872\r\n43.130.10.70:27823\r\n43.130.10.70:27821\r\n43.130.10.70:27604\r\n43.130.10.70:27848\r\n43.130.10.70:27659\r\n43.130.10.70:27829\r\n43.130.10.70:27862\r\n43.130.10.70:27607\r\n43.130.10.70:27902\r\n43.130.10.70:27660\r\n43.130.10.70:27887\r\n43.130.10.70:27576\r\n43.130.10.70:27950\r\n43.130.10.70:27987\r\n43.130.10.70:27973\r\n43.130.10.70:27920\r\n43.130.10.70:27761\r\n43.130.10.70:27673\r\n43.130.10.70:27700\r\n43.130.10.70:27615\r\n43.130.10.70:27805\r\n43.130.10.70:27609\r\n43.130.10.70:27968\r\n43.130.10.70:27638\r\n43.130.10.70:27704\r\n43.130.10.70:27713\r\n43.130.10.70:27504\r\n43.130.10.70:27536\r\n43.130.10.70:27703\r\n43.130.10.70:27691\r\n43.130.10.70:27539\r\n43.130.10.70:27528\r\n43.130.10.70:27909\r\n43.130.10.70:27530\r\n43.130.10.70:27620\r\n: 6",
     "output_type": "error",
     "traceback": [
      "\u001b[1;31m---------------------------------------------------------------------------\u001b[0m",
      "\u001b[1;31mJSONDecodeError\u001b[0m                           Traceback (most recent call last)",
      "File \u001b[1;32m~\\anaconda3\\lib\\site-packages\\requests\\models.py:910\u001b[0m, in \u001b[0;36mResponse.json\u001b[1;34m(self, **kwargs)\u001b[0m\n\u001b[0;32m    909\u001b[0m \u001b[38;5;28;01mtry\u001b[39;00m:\n\u001b[1;32m--> 910\u001b[0m     \u001b[38;5;28;01mreturn\u001b[39;00m complexjson\u001b[38;5;241m.\u001b[39mloads(\u001b[38;5;28mself\u001b[39m\u001b[38;5;241m.\u001b[39mtext, \u001b[38;5;241m*\u001b[39m\u001b[38;5;241m*\u001b[39mkwargs)\n\u001b[0;32m    911\u001b[0m \u001b[38;5;28;01mexcept\u001b[39;00m JSONDecodeError \u001b[38;5;28;01mas\u001b[39;00m e:\n\u001b[0;32m    912\u001b[0m     \u001b[38;5;66;03m# Catch JSON-related errors and raise as requests.JSONDecodeError\u001b[39;00m\n\u001b[0;32m    913\u001b[0m     \u001b[38;5;66;03m# This aliases json.JSONDecodeError and simplejson.JSONDecodeError\u001b[39;00m\n",
      "File \u001b[1;32m~\\anaconda3\\lib\\json\\__init__.py:346\u001b[0m, in \u001b[0;36mloads\u001b[1;34m(s, cls, object_hook, parse_float, parse_int, parse_constant, object_pairs_hook, **kw)\u001b[0m\n\u001b[0;32m    343\u001b[0m \u001b[38;5;28;01mif\u001b[39;00m (\u001b[38;5;28mcls\u001b[39m \u001b[38;5;129;01mis\u001b[39;00m \u001b[38;5;28;01mNone\u001b[39;00m \u001b[38;5;129;01mand\u001b[39;00m object_hook \u001b[38;5;129;01mis\u001b[39;00m \u001b[38;5;28;01mNone\u001b[39;00m \u001b[38;5;129;01mand\u001b[39;00m\n\u001b[0;32m    344\u001b[0m         parse_int \u001b[38;5;129;01mis\u001b[39;00m \u001b[38;5;28;01mNone\u001b[39;00m \u001b[38;5;129;01mand\u001b[39;00m parse_float \u001b[38;5;129;01mis\u001b[39;00m \u001b[38;5;28;01mNone\u001b[39;00m \u001b[38;5;129;01mand\u001b[39;00m\n\u001b[0;32m    345\u001b[0m         parse_constant \u001b[38;5;129;01mis\u001b[39;00m \u001b[38;5;28;01mNone\u001b[39;00m \u001b[38;5;129;01mand\u001b[39;00m object_pairs_hook \u001b[38;5;129;01mis\u001b[39;00m \u001b[38;5;28;01mNone\u001b[39;00m \u001b[38;5;129;01mand\u001b[39;00m \u001b[38;5;129;01mnot\u001b[39;00m kw):\n\u001b[1;32m--> 346\u001b[0m     \u001b[38;5;28;01mreturn\u001b[39;00m \u001b[43m_default_decoder\u001b[49m\u001b[38;5;241;43m.\u001b[39;49m\u001b[43mdecode\u001b[49m\u001b[43m(\u001b[49m\u001b[43ms\u001b[49m\u001b[43m)\u001b[49m\n\u001b[0;32m    347\u001b[0m \u001b[38;5;28;01mif\u001b[39;00m \u001b[38;5;28mcls\u001b[39m \u001b[38;5;129;01mis\u001b[39;00m \u001b[38;5;28;01mNone\u001b[39;00m:\n",
      "File \u001b[1;32m~\\anaconda3\\lib\\json\\decoder.py:340\u001b[0m, in \u001b[0;36mJSONDecoder.decode\u001b[1;34m(self, s, _w)\u001b[0m\n\u001b[0;32m    339\u001b[0m \u001b[38;5;28;01mif\u001b[39;00m end \u001b[38;5;241m!=\u001b[39m \u001b[38;5;28mlen\u001b[39m(s):\n\u001b[1;32m--> 340\u001b[0m     \u001b[38;5;28;01mraise\u001b[39;00m JSONDecodeError(\u001b[38;5;124m\"\u001b[39m\u001b[38;5;124mExtra data\u001b[39m\u001b[38;5;124m\"\u001b[39m, s, end)\n\u001b[0;32m    341\u001b[0m \u001b[38;5;28;01mreturn\u001b[39;00m obj\n",
      "\u001b[1;31mJSONDecodeError\u001b[0m: Extra data: line 1 column 7 (char 6)",
      "\nDuring handling of the above exception, another exception occurred:\n",
      "\u001b[1;31mJSONDecodeError\u001b[0m                           Traceback (most recent call last)",
      "Input \u001b[1;32mIn [4]\u001b[0m, in \u001b[0;36m<cell line: 1>\u001b[1;34m()\u001b[0m\n\u001b[1;32m----> 1\u001b[0m \u001b[43mrequests\u001b[49m\u001b[38;5;241;43m.\u001b[39;49m\u001b[43mget\u001b[49m\u001b[43m(\u001b[49m\u001b[43murl\u001b[49m\u001b[43m)\u001b[49m\u001b[38;5;241;43m.\u001b[39;49m\u001b[43mjson\u001b[49m\u001b[43m(\u001b[49m\u001b[43m)\u001b[49m\n",
      "File \u001b[1;32m~\\anaconda3\\lib\\site-packages\\requests\\models.py:917\u001b[0m, in \u001b[0;36mResponse.json\u001b[1;34m(self, **kwargs)\u001b[0m\n\u001b[0;32m    915\u001b[0m     \u001b[38;5;28;01mraise\u001b[39;00m RequestsJSONDecodeError(e\u001b[38;5;241m.\u001b[39mmessage)\n\u001b[0;32m    916\u001b[0m \u001b[38;5;28;01melse\u001b[39;00m:\n\u001b[1;32m--> 917\u001b[0m     \u001b[38;5;28;01mraise\u001b[39;00m RequestsJSONDecodeError(e\u001b[38;5;241m.\u001b[39mmsg, e\u001b[38;5;241m.\u001b[39mdoc, e\u001b[38;5;241m.\u001b[39mpos)\n",
      "\u001b[1;31mJSONDecodeError\u001b[0m: [Errno Extra data] 43.130.10.70:27883\r\n43.130.10.70:27922\r\n43.130.10.70:27566\r\n43.130.10.70:27905\r\n43.130.10.70:27571\r\n43.130.10.70:27963\r\n43.130.10.70:27965\r\n43.130.10.70:27817\r\n43.130.10.70:27771\r\n43.130.10.70:27900\r\n43.130.10.70:27779\r\n43.130.10.70:27750\r\n43.130.10.70:27534\r\n43.130.10.70:27830\r\n43.130.10.70:27872\r\n43.130.10.70:27823\r\n43.130.10.70:27821\r\n43.130.10.70:27604\r\n43.130.10.70:27848\r\n43.130.10.70:27659\r\n43.130.10.70:27829\r\n43.130.10.70:27862\r\n43.130.10.70:27607\r\n43.130.10.70:27902\r\n43.130.10.70:27660\r\n43.130.10.70:27887\r\n43.130.10.70:27576\r\n43.130.10.70:27950\r\n43.130.10.70:27987\r\n43.130.10.70:27973\r\n43.130.10.70:27920\r\n43.130.10.70:27761\r\n43.130.10.70:27673\r\n43.130.10.70:27700\r\n43.130.10.70:27615\r\n43.130.10.70:27805\r\n43.130.10.70:27609\r\n43.130.10.70:27968\r\n43.130.10.70:27638\r\n43.130.10.70:27704\r\n43.130.10.70:27713\r\n43.130.10.70:27504\r\n43.130.10.70:27536\r\n43.130.10.70:27703\r\n43.130.10.70:27691\r\n43.130.10.70:27539\r\n43.130.10.70:27528\r\n43.130.10.70:27909\r\n43.130.10.70:27530\r\n43.130.10.70:27620\r\n: 6"
     ]
    }
   ],
   "source": [
    "requests.get(url).json()"
   ]
  },
  {
   "cell_type": "code",
   "execution_count": 7,
   "id": "defe840f",
   "metadata": {},
   "outputs": [
    {
     "name": "stdout",
     "output_type": "stream",
     "text": [
      "waiting chrome termination\n",
      "waiting chrome termination\n",
      "waiting chrome termination\n"
     ]
    }
   ],
   "source": [
    "gl.stop()"
   ]
  },
  {
   "cell_type": "code",
   "execution_count": null,
   "id": "34dd0c7c",
   "metadata": {},
   "outputs": [],
   "source": []
  },
  {
   "cell_type": "code",
   "execution_count": null,
   "id": "dc8d9482",
   "metadata": {},
   "outputs": [],
   "source": []
  },
  {
   "cell_type": "code",
   "execution_count": null,
   "id": "851dd8bd",
   "metadata": {},
   "outputs": [],
   "source": []
  },
  {
   "cell_type": "code",
   "execution_count": 2,
   "id": "3fb1f0b6",
   "metadata": {},
   "outputs": [],
   "source": [
    "profile = gl.getProfile(\"643fab9237188820fe00e419\")"
   ]
  },
  {
   "cell_type": "code",
   "execution_count": 3,
   "id": "a02d5a6a",
   "metadata": {},
   "outputs": [
    {
     "data": {
      "text/plain": [
       "{'name': 'xyz',\n",
       " 'id': '643fab9237188820fe00e419',\n",
       " 'notes': '',\n",
       " 'browserType': 'chrome',\n",
       " 'canBeRunning': True,\n",
       " 'os': 'win',\n",
       " 'startUrl': '',\n",
       " 'googleServicesEnabled': False,\n",
       " 'lockEnabled': False,\n",
       " 'debugMode': False,\n",
       " 'navigator': {'hardwareConcurrency': 4,\n",
       "  'doNotTrack': False,\n",
       "  'deviceMemory': 8,\n",
       "  'maxTouchPoints': 0,\n",
       "  'userAgent': 'Mozilla/5.0 (Windows NT 10.0; Win64; x64) AppleWebKit/537.36 (KHTML, like Gecko) Chrome/111.0.5563.64 Safari/537.36',\n",
       "  'resolution': '1920x1080',\n",
       "  'language': 'en-GB,en-US;q=0.9,en;q=0.8',\n",
       "  'platform': 'Win32'},\n",
       " 'storage': {'local': True,\n",
       "  'extensions': True,\n",
       "  'bookmarks': True,\n",
       "  'history': True,\n",
       "  'passwords': True,\n",
       "  'session': True,\n",
       "  'indexedDb': True},\n",
       " 'proxyEnabled': True,\n",
       " 'autoProxyServer': '',\n",
       " 'autoProxyUsername': '',\n",
       " 'autoProxyPassword': '',\n",
       " 'proxy': {'id': '643fab92fdfb6ea811cdda39',\n",
       "  'mode': 'socks5',\n",
       "  'host': '43.130.10.70',\n",
       "  'port': 27620,\n",
       "  'username': '',\n",
       "  'password': ''},\n",
       " 'dns': '',\n",
       " 'plugins': {'enableVulnerable': True, 'enableFlash': True},\n",
       " 'timezone': {'enabled': True, 'fillBasedOnIp': True, 'timezone': ''},\n",
       " 'geolocation': {'mode': 'prompt',\n",
       "  'enabled': True,\n",
       "  'customize': True,\n",
       "  'fillBasedOnIp': True,\n",
       "  'latitude': 0,\n",
       "  'longitude': 0,\n",
       "  'accuracy': 10},\n",
       " 'audioContext': {'mode': 'noise', 'noise': 9.933961672447e-08},\n",
       " 'canvas': {'mode': 'off', 'noise': 0.13223206},\n",
       " 'fonts': {'enableMasking': True,\n",
       "  'enableDomRect': True,\n",
       "  'families': ['AIGDT',\n",
       "   'AMGDT',\n",
       "   'Arial',\n",
       "   'Arial Baltic',\n",
       "   'Arial Black',\n",
       "   'Arial CE',\n",
       "   'Arial Greek',\n",
       "   'Arial Hebrew',\n",
       "   'Arial MT',\n",
       "   'Arial TUR',\n",
       "   'Arial Unicode MS',\n",
       "   'Calibri',\n",
       "   'Calibri Light',\n",
       "   'Cambria',\n",
       "   'Cambria Math',\n",
       "   'Candara',\n",
       "   'Comic Sans MS',\n",
       "   'Consolas',\n",
       "   'Constantia',\n",
       "   'Corbel',\n",
       "   'Courier',\n",
       "   'Courier New',\n",
       "   'Courier New Baltic',\n",
       "   'Courier New CE',\n",
       "   'Courier New Cyr',\n",
       "   'Courier New Greek',\n",
       "   'Courier New TUR',\n",
       "   'David',\n",
       "   'David Libre',\n",
       "   'DejaVu Sans',\n",
       "   'DejaVu Sans Condensed',\n",
       "   'DejaVu Sans Light',\n",
       "   'DejaVu Sans Mono',\n",
       "   'DejaVu Serif',\n",
       "   'DejaVu Serif Condensed',\n",
       "   'Ebrima',\n",
       "   'Frank Ruehl',\n",
       "   'Frank Ruehl Libre',\n",
       "   'Frank Ruehl Libre Black',\n",
       "   'Frank Ruehl Libre Light',\n",
       "   'Franklin Gothic Book',\n",
       "   'Franklin Gothic Demi',\n",
       "   'Franklin Gothic Demi Cond',\n",
       "   'Franklin Gothic Heavy',\n",
       "   'Franklin Gothic Medium',\n",
       "   'Franklin Gothic Medium Cond',\n",
       "   'Gabriola',\n",
       "   'Gadugi',\n",
       "   'Georgia',\n",
       "   'Gill Sans',\n",
       "   'Gill Sans MT',\n",
       "   'Gill Sans MT Condensed',\n",
       "   'Gill Sans MT Ext Condensed Bold',\n",
       "   'Gill Sans Ultra Bold',\n",
       "   'Gill Sans Ultra Bold Condensed',\n",
       "   'Impact',\n",
       "   'KacstBook',\n",
       "   'KacstLetter',\n",
       "   'KacstNaskh',\n",
       "   'KacstOffice',\n",
       "   'KacstTitlel',\n",
       "   'Leelawadee',\n",
       "   'Liberation Mono',\n",
       "   'Liberation Sans',\n",
       "   'Liberation Sans Narrow',\n",
       "   'Liberation Serif',\n",
       "   'Lucida Bright',\n",
       "   'Lucida Calligraphy',\n",
       "   'Lucida Console',\n",
       "   'Lucida Sans Unicode',\n",
       "   'MS Gothic',\n",
       "   'MS LineDraw',\n",
       "   'MS Mincho',\n",
       "   'MS Outlook',\n",
       "   'MS PGothic',\n",
       "   'MS PMincho',\n",
       "   'MS Reference Sans Serif',\n",
       "   'MS Reference Specialty',\n",
       "   'MS Sans Serif',\n",
       "   'MS Serif',\n",
       "   'MS UI Gothic',\n",
       "   'MV Boli',\n",
       "   'Malgun Gothic',\n",
       "   'Marlett',\n",
       "   'Microsoft Himalaya',\n",
       "   'Microsoft JhengHei',\n",
       "   'Microsoft JhengHei UI',\n",
       "   'Microsoft New Tai Lue',\n",
       "   'Microsoft PhagsPa',\n",
       "   'Microsoft Sans Serif',\n",
       "   'Microsoft Tai Le',\n",
       "   'Microsoft Uighur',\n",
       "   'Microsoft YaHei',\n",
       "   'Microsoft YaHei UI',\n",
       "   'Microsoft Yi Baiti',\n",
       "   'MingLiU',\n",
       "   'MingLiU-ExtB',\n",
       "   'MingLiU_HKSCS',\n",
       "   'MingLiU_HKSCS-ExtB',\n",
       "   'Miriam',\n",
       "   'Miriam Fixed',\n",
       "   'Miriam Libre',\n",
       "   'Mongolian Baiti',\n",
       "   'NSimSun',\n",
       "   'Nirmala UI',\n",
       "   'Noto Mono',\n",
       "   'Noto Sans',\n",
       "   'Noto Sans Arabic UI',\n",
       "   'Noto Sans CJK HK',\n",
       "   'Noto Sans CJK JP',\n",
       "   'Noto Sans CJK KR',\n",
       "   'Noto Sans CJK SC',\n",
       "   'Noto Sans CJK TC',\n",
       "   'Noto Sans Lisu',\n",
       "   'Noto Sans Mono CJK HK',\n",
       "   'Noto Sans Mono CJK JP',\n",
       "   'Noto Sans Mono CJK KR',\n",
       "   'Noto Sans Mono CJK SC',\n",
       "   'Noto Sans Mono CJK TC',\n",
       "   'Noto Serif',\n",
       "   'Noto Serif CJK JP',\n",
       "   'Noto Serif CJK KR',\n",
       "   'Noto Serif CJK SC',\n",
       "   'Noto Serif CJK TC',\n",
       "   'Noto Serif Georgian',\n",
       "   'Noto Serif Hebrew',\n",
       "   'Noto Serif Italic',\n",
       "   'Noto Serif Lao',\n",
       "   'OpenSymbol',\n",
       "   'Oswald',\n",
       "   'PMingLiU',\n",
       "   'PMingLiU-ExtB',\n",
       "   'Palatino Linotype',\n",
       "   'Roboto',\n",
       "   'Roboto Light',\n",
       "   'Roboto Medium',\n",
       "   'Roboto Thin',\n",
       "   'Segoe Print',\n",
       "   'Segoe Script',\n",
       "   'Segoe UI',\n",
       "   'Segoe UI Light',\n",
       "   'Segoe UI Symbol',\n",
       "   'SimSun',\n",
       "   'Sylfaen',\n",
       "   'Symbol',\n",
       "   'Times New Roman Baltic',\n",
       "   'Times New Roman CE',\n",
       "   'Times New Roman Cyr',\n",
       "   'Times New Roman Greek',\n",
       "   'Times New Roman TUR',\n",
       "   'Webdings',\n",
       "   'Wingdings',\n",
       "   'Wingdings 2',\n",
       "   'Wingdings 3',\n",
       "   'Yu Gothic',\n",
       "   'Zapf Dingbats']},\n",
       " 'mediaDevices': {'enableMasking': True,\n",
       "  'videoInputs': 0,\n",
       "  'audioInputs': 0,\n",
       "  'audioOutputs': 1,\n",
       "  'uid': '3fd920c4b9cc4658afbe554a250b5d14e4ce7e3a3fab4b6aa348b67f61'},\n",
       " 'webRTC': {'mode': 'alerted',\n",
       "  'enabled': True,\n",
       "  'customize': True,\n",
       "  'localIpMasking': True,\n",
       "  'fillBasedOnIp': True,\n",
       "  'publicIp': '',\n",
       "  'localIps': []},\n",
       " 'webGL': {'mode': 'off', 'noise': 69.388, 'getClientRectsNoise': 1.69505},\n",
       " 'clientRects': {'mode': 'off', 'noise': 1.69505},\n",
       " 'webGLMetadata': {'mode': 'mask',\n",
       "  'vendor': 'Google Inc. (Google)',\n",
       "  'renderer': 'ANGLE (Google, Vulkan 1.3.0 (SwiftShader Device (Subzero) (0x0000C0DE)), SwiftShader driver)'},\n",
       " 'webglParams': {'supportedFunctions': [{'name': 'beginQuery',\n",
       "    'supported': True},\n",
       "   {'name': 'beginTransformFeedback', 'supported': True},\n",
       "   {'name': 'bindBufferBase', 'supported': True},\n",
       "   {'name': 'bindBufferRange', 'supported': True},\n",
       "   {'name': 'bindSampler', 'supported': True},\n",
       "   {'name': 'bindTransformFeedback', 'supported': True},\n",
       "   {'name': 'bindVertexArray', 'supported': True},\n",
       "   {'name': 'blitFramebuffer', 'supported': True},\n",
       "   {'name': 'clearBufferfi', 'supported': True},\n",
       "   {'name': 'clearBufferfv', 'supported': True},\n",
       "   {'name': 'clearBufferiv', 'supported': True},\n",
       "   {'name': 'clearBufferuiv', 'supported': True},\n",
       "   {'name': 'clientWaitSync', 'supported': True},\n",
       "   {'name': 'compressedTexImage3D', 'supported': True},\n",
       "   {'name': 'compressedTexSubImage3D', 'supported': True},\n",
       "   {'name': 'copyBufferSubData', 'supported': True},\n",
       "   {'name': 'copyTexSubImage3D', 'supported': True},\n",
       "   {'name': 'createQuery', 'supported': True},\n",
       "   {'name': 'createSampler', 'supported': True},\n",
       "   {'name': 'createTransformFeedback', 'supported': True},\n",
       "   {'name': 'createVertexArray', 'supported': True},\n",
       "   {'name': 'deleteQuery', 'supported': True},\n",
       "   {'name': 'deleteSampler', 'supported': True},\n",
       "   {'name': 'deleteSync', 'supported': True},\n",
       "   {'name': 'deleteTransformFeedback', 'supported': True},\n",
       "   {'name': 'deleteVertexArray', 'supported': True},\n",
       "   {'name': 'drawArraysInstanced', 'supported': True},\n",
       "   {'name': 'drawBuffers', 'supported': True},\n",
       "   {'name': 'drawElementsInstanced', 'supported': True},\n",
       "   {'name': 'drawRangeElements', 'supported': True},\n",
       "   {'name': 'endQuery', 'supported': True},\n",
       "   {'name': 'endTransformFeedback', 'supported': True},\n",
       "   {'name': 'fenceSync', 'supported': True},\n",
       "   {'name': 'framebufferTextureLayer', 'supported': True},\n",
       "   {'name': 'getActiveUniformBlockName', 'supported': True},\n",
       "   {'name': 'getActiveUniformBlockParameter', 'supported': True},\n",
       "   {'name': 'getActiveUniforms', 'supported': True},\n",
       "   {'name': 'getBufferSubData', 'supported': True},\n",
       "   {'name': 'getFragDataLocation', 'supported': True},\n",
       "   {'name': 'getIndexedParameter', 'supported': True},\n",
       "   {'name': 'getInternalformatParameter', 'supported': True},\n",
       "   {'name': 'getQuery', 'supported': True},\n",
       "   {'name': 'getQueryParameter', 'supported': True},\n",
       "   {'name': 'getSamplerParameter', 'supported': True},\n",
       "   {'name': 'getSyncParameter', 'supported': True},\n",
       "   {'name': 'getTransformFeedbackVarying', 'supported': True},\n",
       "   {'name': 'getUniformBlockIndex', 'supported': True},\n",
       "   {'name': 'getUniformIndices', 'supported': True},\n",
       "   {'name': 'invalidateFramebuffer', 'supported': True},\n",
       "   {'name': 'invalidateSubFramebuffer', 'supported': True},\n",
       "   {'name': 'isQuery', 'supported': True},\n",
       "   {'name': 'isSampler', 'supported': True},\n",
       "   {'name': 'isSync', 'supported': True},\n",
       "   {'name': 'isTransformFeedback', 'supported': True},\n",
       "   {'name': 'isVertexArray', 'supported': True},\n",
       "   {'name': 'pauseTransformFeedback', 'supported': True},\n",
       "   {'name': 'readBuffer', 'supported': True},\n",
       "   {'name': 'renderbufferStorageMultisample', 'supported': True},\n",
       "   {'name': 'resumeTransformFeedback', 'supported': True},\n",
       "   {'name': 'samplerParameterf', 'supported': True},\n",
       "   {'name': 'samplerParameteri', 'supported': True},\n",
       "   {'name': 'texImage3D', 'supported': True},\n",
       "   {'name': 'texStorage2D', 'supported': True},\n",
       "   {'name': 'texStorage3D', 'supported': True},\n",
       "   {'name': 'texSubImage3D', 'supported': True},\n",
       "   {'name': 'transformFeedbackVaryings', 'supported': True},\n",
       "   {'name': 'uniform1ui', 'supported': True},\n",
       "   {'name': 'uniform1uiv', 'supported': True},\n",
       "   {'name': 'uniform2ui', 'supported': True},\n",
       "   {'name': 'uniform2uiv', 'supported': True},\n",
       "   {'name': 'uniform3ui', 'supported': True},\n",
       "   {'name': 'uniform3uiv', 'supported': True},\n",
       "   {'name': 'uniform4ui', 'supported': True},\n",
       "   {'name': 'uniform4uiv', 'supported': True},\n",
       "   {'name': 'uniformBlockBinding', 'supported': True},\n",
       "   {'name': 'uniformMatrix2x3fv', 'supported': True},\n",
       "   {'name': 'uniformMatrix2x4fv', 'supported': True},\n",
       "   {'name': 'uniformMatrix3x2fv', 'supported': True},\n",
       "   {'name': 'uniformMatrix3x4fv', 'supported': True},\n",
       "   {'name': 'uniformMatrix4x2fv', 'supported': True},\n",
       "   {'name': 'uniformMatrix4x3fv', 'supported': True},\n",
       "   {'name': 'vertexAttribDivisor', 'supported': True},\n",
       "   {'name': 'vertexAttribI4i', 'supported': True},\n",
       "   {'name': 'vertexAttribI4iv', 'supported': True},\n",
       "   {'name': 'vertexAttribI4ui', 'supported': True},\n",
       "   {'name': 'vertexAttribI4uiv', 'supported': True},\n",
       "   {'name': 'vertexAttribIPointer', 'supported': True},\n",
       "   {'name': 'waitSync', 'supported': True}],\n",
       "  'glParamValues': [{'name': 'ALIASED_LINE_WIDTH_RANGE',\n",
       "    'value': {'0': 1, '1': 1}},\n",
       "   {'name': 'ALIASED_POINT_SIZE_RANGE', 'value': {'0': 1, '1': 1023}},\n",
       "   {'name': ['DEPTH_BITS', 'STENCIL_BITS'], 'value': 'n/a'},\n",
       "   {'name': 'MAX_3D_TEXTURE_SIZE', 'value': 2048},\n",
       "   {'name': 'MAX_ARRAY_TEXTURE_LAYERS', 'value': 2048},\n",
       "   {'name': 'MAX_COLOR_ATTACHMENTS', 'value': 8},\n",
       "   {'name': 'MAX_COMBINED_FRAGMENT_UNIFORM_COMPONENTS', 'value': 229376},\n",
       "   {'name': 'MAX_COMBINED_TEXTURE_IMAGE_UNITS', 'value': 64},\n",
       "   {'name': 'MAX_COMBINED_UNIFORM_BLOCKS', 'value': 59},\n",
       "   {'name': 'MAX_COMBINED_VERTEX_UNIFORM_COMPONENTS', 'value': 229375},\n",
       "   {'name': 'MAX_CUBE_MAP_TEXTURE_SIZE', 'value': 16384},\n",
       "   {'name': 'MAX_DRAW_BUFFERS', 'value': 8},\n",
       "   {'name': 'MAX_FRAGMENT_INPUT_COMPONENTS', 'value': 128},\n",
       "   {'name': 'MAX_FRAGMENT_UNIFORM_BLOCKS', 'value': 13},\n",
       "   {'name': 'MAX_FRAGMENT_UNIFORM_COMPONENTS', 'value': 16384},\n",
       "   {'name': 'MAX_FRAGMENT_UNIFORM_VECTORS', 'value': 4096},\n",
       "   {'name': 'MAX_PROGRAM_TEXEL_OFFSET', 'value': 7},\n",
       "   {'name': 'MAX_RENDERBUFFER_SIZE', 'value': 8192},\n",
       "   {'name': 'MAX_SAMPLES', 'value': 4},\n",
       "   {'name': 'MAX_TEXTURE_IMAGE_UNITS', 'value': 32},\n",
       "   {'name': 'MAX_TEXTURE_LOD_BIAS', 'value': 15},\n",
       "   {'name': 'MAX_TEXTURE_SIZE', 'value': 8192},\n",
       "   {'name': 'MAX_TRANSFORM_FEEDBACK_INTERLEAVED_COMPONENTS', 'value': 128},\n",
       "   {'name': 'MAX_TRANSFORM_FEEDBACK_SEPARATE_ATTRIBS', 'value': 4},\n",
       "   {'name': 'MAX_TRANSFORM_FEEDBACK_SEPARATE_COMPONENTS', 'value': 4},\n",
       "   {'name': 'MAX_UNIFORM_BLOCK_SIZE', 'value': 65536},\n",
       "   {'name': 'MAX_UNIFORM_BUFFER_BINDINGS', 'value': 72},\n",
       "   {'name': 'MAX_VARYING_COMPONENTS', 'value': 123},\n",
       "   {'name': 'MAX_VARYING_VECTORS', 'value': 31},\n",
       "   {'name': 'MAX_VERTEX_ATTRIBS', 'value': 16},\n",
       "   {'name': 'MAX_VERTEX_OUTPUT_COMPONENTS', 'value': 128},\n",
       "   {'name': 'MAX_VERTEX_TEXTURE_IMAGE_UNITS', 'value': 32},\n",
       "   {'name': 'MAX_VERTEX_UNIFORM_BLOCKS', 'value': 12},\n",
       "   {'name': 'MAX_VERTEX_UNIFORM_COMPONENTS', 'value': 16384},\n",
       "   {'name': 'MAX_VERTEX_UNIFORM_VECTORS', 'value': 4096},\n",
       "   {'name': 'MAX_VIEWPORT_DIMS', 'value': {'0': 8192, '1': 8192}},\n",
       "   {'name': 'MIN_PROGRAM_TEXEL_OFFSET', 'value': -8},\n",
       "   {'name': ['RED_BITS', 'GREEN_BITS', 'BLUE_BITS', 'ALPHA_BITS'],\n",
       "    'value': 'n/a'},\n",
       "   {'name': 'RENDERER', 'value': 'WebKit WebGL'},\n",
       "   {'name': 'SHADING_LANGUAGE_VERSION',\n",
       "    'value': 'WebGL GLSL ES 3.00 (OpenGL ES GLSL ES 3.0 Chromium)'},\n",
       "   {'name': 'UNIFORM_BUFFER_OFFSET_ALIGNMENT', 'value': 256},\n",
       "   {'name': 'VENDOR', 'value': 'WebKit'},\n",
       "   {'name': 'VERSION', 'value': 'WebGL 2.0 (OpenGL ES 3.0 Chromium)'}],\n",
       "  'textureMaxAnisotropyExt': 16,\n",
       "  'extensions': ['EXT_color_buffer_float',\n",
       "   'EXT_color_buffer_half_float',\n",
       "   'EXT_float_blend',\n",
       "   'EXT_texture_compression_bptc',\n",
       "   'EXT_texture_compression_rgtc',\n",
       "   'EXT_texture_filter_anisotropic',\n",
       "   'OES_draw_buffers_indexed',\n",
       "   'OES_texture_float_linear',\n",
       "   'OVR_multiview2',\n",
       "   'WEBGL_compressed_texture_astc',\n",
       "   'WEBGL_compressed_texture_etc',\n",
       "   'WEBGL_compressed_texture_etc1',\n",
       "   'WEBGL_compressed_texture_s3tc',\n",
       "   'WEBGL_compressed_texture_s3tc_srgb',\n",
       "   'WEBGL_debug_renderer_info',\n",
       "   'WEBGL_lose_context',\n",
       "   'WEBGL_multi_draw'],\n",
       "  'glCanvas': 'webgl2',\n",
       "  'antialiasing': True,\n",
       "  'shaiderPrecisionFormat': 'highp/highp'},\n",
       " 'extensions': {'enabled': True, 'preloadCustom': True, 'names': []},\n",
       " 's3Path': 'zero_profile.zip',\n",
       " 's3Date': '',\n",
       " 'devicePixelRatio': 1,\n",
       " 'owner': '643e69176a69dc65d270050a',\n",
       " 'checkCookies': False,\n",
       " 'chromeExtensions': [],\n",
       " 'userChromeExtensions': [],\n",
       " 'permissions': {'transferProfile': True,\n",
       "  'shareProfile': True,\n",
       "  'manageFolders': True,\n",
       "  'editProfile': True,\n",
       "  'deleteProfile': True,\n",
       "  'cloneProfile': True,\n",
       "  'exportProfile': True,\n",
       "  'updateUA': True,\n",
       "  'runProfile': True,\n",
       "  'viewProfile': True}}"
      ]
     },
     "execution_count": 3,
     "metadata": {},
     "output_type": "execute_result"
    }
   ],
   "source": [
    "profile"
   ]
  },
  {
   "cell_type": "code",
   "execution_count": 7,
   "id": "24116ce7",
   "metadata": {},
   "outputs": [],
   "source": [
    "gl.delete(profile_id)"
   ]
  },
  {
   "cell_type": "code",
   "execution_count": null,
   "id": "ea552260",
   "metadata": {},
   "outputs": [],
   "source": []
  }
 ],
 "metadata": {
  "kernelspec": {
   "display_name": "Python 3 (ipykernel)",
   "language": "python",
   "name": "python3"
  },
  "language_info": {
   "codemirror_mode": {
    "name": "ipython",
    "version": 3
   },
   "file_extension": ".py",
   "mimetype": "text/x-python",
   "name": "python",
   "nbconvert_exporter": "python",
   "pygments_lexer": "ipython3",
   "version": "3.9.12"
  }
 },
 "nbformat": 4,
 "nbformat_minor": 5
}
